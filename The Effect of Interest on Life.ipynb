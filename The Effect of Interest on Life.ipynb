{
 "cells": [
  {
   "cell_type": "code",
   "execution_count": 16,
   "metadata": {},
   "outputs": [],
   "source": [
    "import plotly\n",
    "import plotly.plotly as py\n",
    "import plotly.graph_objs as go\n",
    "plotly.tools.set_credentials_file(username='sansburyjacob', api_key='aRJN1U0jX9f7px1HKdd2')\n",
    "from deltaengine.Reports import ReportTypes, ReportData\n",
    "\n",
    "def for_i(i):\n",
    "    data = ReportData(report_type=ReportTypes.LIFE, interest=True, yearly_interest=i/100).data\n",
    "    return go.Scatter(x=data.date, y=data.balance, name=\"{}% Interest\".format(i))\n",
    "\n",
    "data = [for_i(i) for i in [0, 4, 6, 8]]"
   ]
  },
  {
   "cell_type": "code",
   "execution_count": 21,
   "metadata": {},
   "outputs": [
    {
     "name": "stdout",
     "output_type": "stream",
     "text": [
      "The draw time for this plot will be slow for all clients.\n"
     ]
    },
    {
     "data": {
      "text/html": [
       "<iframe id=\"igraph\" scrolling=\"no\" style=\"border:none;\" seamless=\"seamless\" src=\"https://plot.ly/~sansburyjacob/20.embed\" height=\"525px\" width=\"100%\"></iframe>"
      ],
      "text/plain": [
       "<plotly.tools.PlotlyDisplay object>"
      ]
     },
     "execution_count": 21,
     "metadata": {},
     "output_type": "execute_result"
    }
   ],
   "source": [
    "layout = dict(\n",
    "    title = \"Effec of Interest on Balance\",\n",
    "    xaxis = dict(\n",
    "        title=\"Year\",\n",
    "        rangeslider=dict(\n",
    "            visible = True\n",
    "        ),\n",
    "        type=\"date\"\n",
    "    ),\n",
    "    yaxis = dict(\n",
    "        title=\"Balance ($)\"\n",
    "    )\n",
    ")\n",
    "\n",
    "py.iplot(dict(data=data, layout=layout), filename='forecast-1-year')"
   ]
  },
  {
   "cell_type": "code",
   "execution_count": 24,
   "metadata": {},
   "outputs": [
    {
     "name": "stdout",
     "output_type": "stream",
     "text": [
      "The draw time for this plot will be slow for clients without much RAM.\n"
     ]
    },
    {
     "data": {
      "text/html": [
       "<iframe id=\"igraph\" scrolling=\"no\" style=\"border:none;\" seamless=\"seamless\" src=\"https://plot.ly/~sansburyjacob/20.embed\" height=\"525px\" width=\"100%\"></iframe>"
      ],
      "text/plain": [
       "<plotly.tools.PlotlyDisplay object>"
      ]
     },
     "execution_count": 24,
     "metadata": {},
     "output_type": "execute_result"
    }
   ],
   "source": [
    "dn = ReportData(report_type=ReportTypes.LIFE, interest=True, yearly_interest=5/100).data\n",
    "di = ReportData(report_type=ReportTypes.LIFE, interest=True, yearly_interest=5/100, scene=\"ideal\").data\n",
    "plot = [\n",
    "    go.Scatter(x=dn.date, y=dn.balance, name=\"5% Interest Now\"),\n",
    "    go.Scatter(x=di.date, y=di.balance, name=\"5% Interest Ideal\")\n",
    "]\n",
    "py.iplot(dict(data=plot, layout=layout), filename='forecast-1-year')"
   ]
  },
  {
   "cell_type": "code",
   "execution_count": null,
   "metadata": {},
   "outputs": [],
   "source": []
  }
 ],
 "metadata": {
  "kernelspec": {
   "display_name": "Python 3",
   "language": "python",
   "name": "python3"
  },
  "language_info": {
   "codemirror_mode": {
    "name": "ipython",
    "version": 3
   },
   "file_extension": ".py",
   "mimetype": "text/x-python",
   "name": "python",
   "nbconvert_exporter": "python",
   "pygments_lexer": "ipython3",
   "version": "3.7.1"
  }
 },
 "nbformat": 4,
 "nbformat_minor": 2
}
