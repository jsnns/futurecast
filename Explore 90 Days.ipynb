{
 "cells": [
  {
   "cell_type": "markdown",
   "metadata": {},
   "source": [
    "# Explore 90 Days"
   ]
  },
  {
   "cell_type": "code",
   "execution_count": 6,
   "metadata": {},
   "outputs": [],
   "source": [
    "from deltaengine.Forecast import Forecast\n",
    "import pandas as pd\n",
    "import plotly\n",
    "import plotly.plotly as py\n",
    "import plotly.graph_objs as go\n",
    "import numpy as np\n",
    "\n",
    "plotly.tools.set_credentials_file(username='sansburyjacob', api_key='aRJN1U0jX9f7px1HKdd2')"
   ]
  },
  {
   "cell_type": "code",
   "execution_count": 2,
   "metadata": {
    "scrolled": true
   },
   "outputs": [],
   "source": [
    "reality = Forecast(days=365, scene=\"data\")"
   ]
  },
  {
   "cell_type": "markdown",
   "metadata": {},
   "source": [
    "# Next 4 Months\n",
    "The next 120 days comprises the most reliable reflection of reality. The further you extend predictions from the current day the higher your margin of error.\n",
    "\n",
    "![alt](https://cdn-images-1.medium.com/max/1600/0*_KXLOyR0glD7T4D9.)\n",
    "\n",
    "### Monthly Balance Exploration\n",
    "* `Low Balance` is the lowest balance during that time period\n",
    "* `High Balance` is the highest balance during that time period\n",
    "* `Change` is the difference in the months' first day's balance and the last"
   ]
  },
  {
   "cell_type": "code",
   "execution_count": 20,
   "metadata": {},
   "outputs": [
    {
     "name": "stdout",
     "output_type": "stream",
     "text": [
      "\n",
      "\n",
      "Minimum Balance: 100.0\n",
      "Current Cash: 650.0\n",
      "Current Daily Burn: 24\n",
      "\n",
      "\n"
     ]
    }
   ],
   "source": [
    "months = [\n",
    "    [11, 2018],\n",
    "    [12, 2018],\n",
    "    [1, 2019],\n",
    "    [2, 2019],\n",
    "]\n",
    "\n",
    "month_4 = reality.describe_months(months)\n",
    "\n",
    "print(\"\\n\")\n",
    "print(\"Minimum Balance: \" + str(min(reality.data.balance)),)\n",
    "print(\"Current Cash: \" + str(reality.data_set.get_balance()))\n",
    "print(\"Current Daily Burn: \" + str(-reality.data_set.get_ongoing_expense_burn()))\n",
    "print(\"\\n\")"
   ]
  },
  {
   "cell_type": "code",
   "execution_count": 21,
   "metadata": {},
   "outputs": [
    {
     "data": {
      "text/html": [
       "<div>\n",
       "<style scoped>\n",
       "    .dataframe tbody tr th:only-of-type {\n",
       "        vertical-align: middle;\n",
       "    }\n",
       "\n",
       "    .dataframe tbody tr th {\n",
       "        vertical-align: top;\n",
       "    }\n",
       "\n",
       "    .dataframe thead th {\n",
       "        text-align: right;\n",
       "    }\n",
       "</style>\n",
       "<table border=\"1\" class=\"dataframe\">\n",
       "  <thead>\n",
       "    <tr style=\"text-align: right;\">\n",
       "      <th></th>\n",
       "      <th>Low</th>\n",
       "      <th>High</th>\n",
       "      <th>Change</th>\n",
       "    </tr>\n",
       "  </thead>\n",
       "  <tbody>\n",
       "    <tr>\n",
       "      <th>November</th>\n",
       "      <td>626.0</td>\n",
       "      <td>626.0</td>\n",
       "      <td>0.0</td>\n",
       "    </tr>\n",
       "    <tr>\n",
       "      <th>December</th>\n",
       "      <td>100.0</td>\n",
       "      <td>3745.0</td>\n",
       "      <td>1857.0</td>\n",
       "    </tr>\n",
       "    <tr>\n",
       "      <th>January</th>\n",
       "      <td>1433.0</td>\n",
       "      <td>5078.0</td>\n",
       "      <td>2557.0</td>\n",
       "    </tr>\n",
       "    <tr>\n",
       "      <th>Febuary</th>\n",
       "      <td>4035.0</td>\n",
       "      <td>7111.0</td>\n",
       "      <td>-571.0</td>\n",
       "    </tr>\n",
       "  </tbody>\n",
       "</table>\n",
       "</div>"
      ],
      "text/plain": [
       "             Low    High  Change\n",
       "November   626.0   626.0     0.0\n",
       "December   100.0  3745.0  1857.0\n",
       "January   1433.0  5078.0  2557.0\n",
       "Febuary   4035.0  7111.0  -571.0"
      ]
     },
     "execution_count": 21,
     "metadata": {},
     "output_type": "execute_result"
    }
   ],
   "source": [
    "data = []\n",
    "names = []\n",
    "for month in month_4:\n",
    "    data.append(month.bal_data)\n",
    "    names.append(month.name)\n",
    "\n",
    "pd.DataFrame(data=np.array(data), columns=[\"Low\", \"High\", \"Change\"], index=names)"
   ]
  },
  {
   "cell_type": "markdown",
   "metadata": {},
   "source": [
    "# 90 Day Balance Chart"
   ]
  },
  {
   "cell_type": "code",
   "execution_count": 9,
   "metadata": {},
   "outputs": [
    {
     "data": {
      "text/html": [
       "<iframe id=\"igraph\" scrolling=\"no\" style=\"border:none;\" seamless=\"seamless\" src=\"https://plot.ly/~sansburyjacob/20.embed\" height=\"525px\" width=\"100%\"></iframe>"
      ],
      "text/plain": [
       "<plotly.tools.PlotlyDisplay object>"
      ]
     },
     "execution_count": 9,
     "metadata": {},
     "output_type": "execute_result"
    }
   ],
   "source": [
    "# plot the forecast on a plotly line chart\n",
    "plot_data = [go.Scatter(x=reality.data[:90].date, y=reality.data[:90].balance)]\n",
    "py.iplot(plot_data, filename='forecast-1-year')"
   ]
  },
  {
   "cell_type": "code",
   "execution_count": null,
   "metadata": {},
   "outputs": [],
   "source": []
  }
 ],
 "metadata": {
  "kernelspec": {
   "display_name": "Python 3",
   "language": "python",
   "name": "python3"
  },
  "language_info": {
   "codemirror_mode": {
    "name": "ipython",
    "version": 3
   },
   "file_extension": ".py",
   "mimetype": "text/x-python",
   "name": "python",
   "nbconvert_exporter": "python",
   "pygments_lexer": "ipython3",
   "version": "3.7.1"
  }
 },
 "nbformat": 4,
 "nbformat_minor": 2
}
