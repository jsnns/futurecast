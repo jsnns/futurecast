{
 "cells": [
  {
   "cell_type": "markdown",
   "metadata": {},
   "source": [
    "# 1 Year Balance Graph\n",
    "\n",
    "## Metrics\n",
    "The metrics used in reports.\n",
    "\n",
    "### Trust\n",
    "The `trust` metric is the predicted reliability of the forecast\n",
    "\n",
    "| Trust Level | Number | Description        |\n",
    "| --- | --- | --- |\n",
    "| High Trust | 9 | no assumptions about spending, earning, or interest |\n",
    "| Medium Trust | 6 | in control assumptions about spending habits or earned interest |\n",
    "| Low Trust | 3 | out of control assumptions about payments like bonuses or what bills will be. |\n",
    "| No Trust | 0 | to many assumptions to be considered near truth |\n",
    "\n",
    "\n",
    "Starting score: 3\n",
    "\n",
    "| Thing | Out of Control | In Control |\n",
    "| --- | --- | --- |\n",
    "| Props | -3 | -1 |\n",
    "| Interest | -4 | *-1 |\n",
    "| Altered Expenses | -3 | -1 |\n",
    "| Altered Income | -3 | -2 |\n",
    "\n",
    "*(within market > .06)"
   ]
  },
  {
   "cell_type": "code",
   "execution_count": 36,
   "metadata": {},
   "outputs": [],
   "source": [
    "from deltaengine.SingleImport import report, plt, go"
   ]
  },
  {
   "cell_type": "code",
   "execution_count": 49,
   "metadata": {
    "scrolled": false
   },
   "outputs": [
    {
     "data": {
      "text/html": [
       "<iframe id=\"igraph\" scrolling=\"no\" style=\"border:none;\" seamless=\"seamless\" src=\"https://plot.ly/~sansburyjacob/20.embed\" height=\"525px\" width=\"100%\"></iframe>"
      ],
      "text/plain": [
       "<plotly.tools.PlotlyDisplay object>"
      ]
     },
     "execution_count": 49,
     "metadata": {},
     "output_type": "execute_result"
    }
   ],
   "source": [
    "# get 365 day forecast from today\n",
    "props=[\n",
    "    \"wins/bonus-19\",\n",
    "    \"wins/tax-refund-19\",\n",
    "    \"trip/parker-119\",\n",
    "    \"buy/macmini-119\",\n",
    "    \"buy/beauty-119\"\n",
    "]\n",
    "compare = [\n",
    "#     dict(\n",
    "#         name=\"Reality\",\n",
    "#         props=[],\n",
    "#         scene=\"reality\",\n",
    "#         trust=9\n",
    "#     ),\n",
    "#     dict(\n",
    "#         name=\"Reality with Goals\",\n",
    "#         props=props,\n",
    "#         scene=\"reality\",\n",
    "#         trust=6\n",
    "#     ),\n",
    "    dict(\n",
    "        name=\"Fixed Reality\",\n",
    "        props=[],\n",
    "        scene=\"fixed\",\n",
    "        trust=9\n",
    "    ),\n",
    "    dict(\n",
    "        name=\"Move\",\n",
    "        props=[],\n",
    "        scene=\"move-in-feb\",\n",
    "        trust=6\n",
    "    ),\n",
    "#     dict(\n",
    "#         name=\"Fixed Reality with Goals\",\n",
    "#         props=props,\n",
    "#         scene=\"fixed\",\n",
    "#         trust=6\n",
    "#     ),\n",
    "#     dict(\n",
    "#         name=\"Move with Goals\",\n",
    "#         props=props,\n",
    "#         scene=\"move-in-feb\",\n",
    "#         trust=3\n",
    "#     )\n",
    "]\n",
    "\n",
    "years = [i for i in range(2019, 2090)]\n",
    "\n",
    "fcds = []\n",
    "for d_set in compare:\n",
    "    rp = report.Life(props=d_set[\"props\"], scene=d_set[\"scene\"], use_interest=True, yearly_interest=0.07)\n",
    "    rp = rp.describe_years(years)\n",
    "    fcds.append(go.Scatter(x=rp.axes[0], y=rp.Low, name=d_set[\"name\"]))\n",
    "\n",
    "plt.iplot(dict(data=fcds, layout=dict(\n",
    "    title = \"Balance Over 2019\",\n",
    "    xaxis = dict(\n",
    "        title = \"Low\"\n",
    "    ),\n",
    "    yaxis = dict(\n",
    "        title = \"Month\"\n",
    "    )\n",
    ")), filename='forecast-1-year')    "
   ]
  },
  {
   "cell_type": "code",
   "execution_count": 40,
   "metadata": {},
   "outputs": [
    {
     "data": {
      "text/html": [
       "<iframe id=\"igraph\" scrolling=\"no\" style=\"border:none;\" seamless=\"seamless\" src=\"https://plot.ly/~sansburyjacob/20.embed\" height=\"525px\" width=\"100%\"></iframe>"
      ],
      "text/plain": [
       "<plotly.tools.PlotlyDisplay object>"
      ]
     },
     "execution_count": 40,
     "metadata": {},
     "output_type": "execute_result"
    }
   ],
   "source": [
    "sets = []\n",
    "for d_set2 in compare:\n",
    "    rp = report.Year(props=d_set2[\"props\"], scene=d_set2[\"scene\"])\n",
    "    sets.append(go.Scatter(y=rp.data.balance, x=rp.data.date, name=d_set2[\"name\"]))\n",
    "plt.iplot(dict(data=sets, layout=dict(\n",
    "    title = \"Low Balance Over 2019\",\n",
    "    xaxis = dict(\n",
    "        title = \"Low\"\n",
    "    ),\n",
    "    yaxis = dict(\n",
    "        title = \"Month\"\n",
    "    )\n",
    ")), filename='forecast-1-year')"
   ]
  },
  {
   "cell_type": "code",
   "execution_count": 42,
   "metadata": {},
   "outputs": [
    {
     "data": {
      "text/plain": [
       "[2019,\n",
       " 2020,\n",
       " 2021,\n",
       " 2022,\n",
       " 2023,\n",
       " 2024,\n",
       " 2025,\n",
       " 2026,\n",
       " 2027,\n",
       " 2028,\n",
       " 2029,\n",
       " 2030,\n",
       " 2031,\n",
       " 2032,\n",
       " 2033,\n",
       " 2034,\n",
       " 2035,\n",
       " 2036,\n",
       " 2037,\n",
       " 2038,\n",
       " 2039,\n",
       " 2040,\n",
       " 2041,\n",
       " 2042,\n",
       " 2043,\n",
       " 2044,\n",
       " 2045,\n",
       " 2046,\n",
       " 2047,\n",
       " 2048,\n",
       " 2049]"
      ]
     },
     "execution_count": 42,
     "metadata": {},
     "output_type": "execute_result"
    }
   ],
   "source": []
  },
  {
   "cell_type": "code",
   "execution_count": null,
   "metadata": {},
   "outputs": [],
   "source": []
  }
 ],
 "metadata": {
  "celltoolbar": "Edit Metadata",
  "kernelspec": {
   "display_name": "Python 3",
   "language": "python",
   "name": "python3"
  },
  "language_info": {
   "codemirror_mode": {
    "name": "ipython",
    "version": 3
   },
   "file_extension": ".py",
   "mimetype": "text/x-python",
   "name": "python",
   "nbconvert_exporter": "python",
   "pygments_lexer": "ipython3",
   "version": "3.7.1"
  }
 },
 "nbformat": 4,
 "nbformat_minor": 2
}
