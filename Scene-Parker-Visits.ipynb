{
 "cells": [
  {
   "cell_type": "code",
   "execution_count": 1,
   "metadata": {},
   "outputs": [],
   "source": [
    "import plotly\n",
    "import plotly.plotly as py\n",
    "import plotly.graph_objs as go\n",
    "from deltaengine.Reports import ReportTypes, ReportData\n",
    "\n",
    "plotly.tools.set_credentials_file(username='sansburyjacob', api_key='aRJN1U0jX9f7px1HKdd2')"
   ]
  },
  {
   "cell_type": "code",
   "execution_count": 10,
   "metadata": {},
   "outputs": [
    {
     "data": {
      "text/html": [
       "<iframe id=\"igraph\" scrolling=\"no\" style=\"border:none;\" seamless=\"seamless\" src=\"https://plot.ly/~sansburyjacob/20.embed\" height=\"525px\" width=\"100%\"></iframe>"
      ],
      "text/plain": [
       "<plotly.tools.PlotlyDisplay object>"
      ]
     },
     "execution_count": 10,
     "metadata": {},
     "output_type": "execute_result"
    }
   ],
   "source": [
    "forecast = ReportData(report_type=ReportTypes.YEAR, interest=False, scene=\"reality-parker-visits\")\n",
    "\n",
    "year_data = forecast.describe_year(2019).frame()\n",
    "year_data_plot = [go.Scatter(x=year_data.axes[0], y=year_data.Low)]\n",
    "\n",
    "py.iplot(dict(data=year_data_plot, layout=dict(\n",
    "    title = \"Low Balance Over 2019\",\n",
    "    xaxis = dict(\n",
    "        title = \"Low\"\n",
    "    ),\n",
    "    yaxis = dict(\n",
    "        title = \"Month\"\n",
    "    )\n",
    ")), filename='forecast-1-year')"
   ]
  },
  {
   "cell_type": "code",
   "execution_count": 11,
   "metadata": {},
   "outputs": [
    {
     "data": {
      "text/html": [
       "<iframe id=\"igraph\" scrolling=\"no\" style=\"border:none;\" seamless=\"seamless\" src=\"https://plot.ly/~sansburyjacob/20.embed\" height=\"525px\" width=\"100%\"></iframe>"
      ],
      "text/plain": [
       "<plotly.tools.PlotlyDisplay object>"
      ]
     },
     "execution_count": 11,
     "metadata": {},
     "output_type": "execute_result"
    }
   ],
   "source": [
    "# plot the forecast on a plotly line chart\n",
    "data = [go.Scatter(x=forecast.data.date, y=forecast.data.balance)]\n",
    "py.iplot(data, filename='forecast-1-year')"
   ]
  },
  {
   "cell_type": "code",
   "execution_count": null,
   "metadata": {},
   "outputs": [],
   "source": []
  }
 ],
 "metadata": {
  "kernelspec": {
   "display_name": "Python 3",
   "language": "python",
   "name": "python3"
  },
  "language_info": {
   "codemirror_mode": {
    "name": "ipython",
    "version": 3
   },
   "file_extension": ".py",
   "mimetype": "text/x-python",
   "name": "python",
   "nbconvert_exporter": "python",
   "pygments_lexer": "ipython3",
   "version": "3.7.1"
  }
 },
 "nbformat": 4,
 "nbformat_minor": 2
}
