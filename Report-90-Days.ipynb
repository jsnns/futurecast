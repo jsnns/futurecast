{
 "cells": [
  {
   "cell_type": "markdown",
   "metadata": {},
   "source": [
    "# Next 3 Months\n",
    "The next 120 days comprises the most reliable reflection of reality. The further you extend predictions from the current day the higher your margin of error.\n",
    "\n",
    "### Monthly Balance Exploration\n",
    "* `Low Balance` is the lowest balance during that time period\n",
    "* `High Balance` is the highest balance during that time period\n",
    "* `Change` is the difference in the months' first day's balance and the last"
   ]
  },
  {
   "cell_type": "code",
   "execution_count": 1,
   "metadata": {},
   "outputs": [],
   "source": [
    "from deltaengine.SingleImport import report, plt, go, pd, np"
   ]
  },
  {
   "cell_type": "code",
   "execution_count": 2,
   "metadata": {
    "scrolled": true
   },
   "outputs": [],
   "source": [
    "props = []\n",
    "reality = report.ThreeMonths(scene=\"reality\", props=[])"
   ]
  },
  {
   "cell_type": "code",
   "execution_count": 3,
   "metadata": {},
   "outputs": [
    {
     "name": "stdout",
     "output_type": "stream",
     "text": [
      "\n",
      "\n",
      "Minimum Balance: -884.99\n",
      "Current Cash: 1097.01\n",
      "Current Daily Burn: 29\n",
      "\n",
      "\n"
     ]
    }
   ],
   "source": [
    "months = [\n",
    "    [12, 2018],\n",
    "    [1, 2019],\n",
    "    [2, 2019]\n",
    "]\n",
    "\n",
    "month_4 = reality.describe_months(months)\n",
    "\n",
    "print(\"\\n\")\n",
    "print(\"Minimum Balance: \" + str(min(reality.data.balance)),)\n",
    "print(\"Current Cash: \" + str(reality.data_set.get_balance()))\n",
    "print(\"Current Daily Burn: \" + str(-reality.data_set.get_ongoing_expense_burn()))\n",
    "print(\"\\n\")"
   ]
  },
  {
   "cell_type": "code",
   "execution_count": 4,
   "metadata": {},
   "outputs": [
    {
     "data": {
      "text/html": [
       "<div>\n",
       "<style scoped>\n",
       "    .dataframe tbody tr th:only-of-type {\n",
       "        vertical-align: middle;\n",
       "    }\n",
       "\n",
       "    .dataframe tbody tr th {\n",
       "        vertical-align: top;\n",
       "    }\n",
       "\n",
       "    .dataframe thead th {\n",
       "        text-align: right;\n",
       "    }\n",
       "</style>\n",
       "<table border=\"1\" class=\"dataframe\">\n",
       "  <thead>\n",
       "    <tr style=\"text-align: right;\">\n",
       "      <th></th>\n",
       "      <th>Low</th>\n",
       "      <th>High</th>\n",
       "      <th>Change</th>\n",
       "    </tr>\n",
       "  </thead>\n",
       "  <tbody>\n",
       "    <tr>\n",
       "      <th>December</th>\n",
       "      <td>-884.99</td>\n",
       "      <td>1266.01</td>\n",
       "      <td>-881.0</td>\n",
       "    </tr>\n",
       "    <tr>\n",
       "      <th>January</th>\n",
       "      <td>-500.99</td>\n",
       "      <td>4147.01</td>\n",
       "      <td>1099.0</td>\n",
       "    </tr>\n",
       "    <tr>\n",
       "      <th>Febuary</th>\n",
       "      <td>1272.01</td>\n",
       "      <td>4733.01</td>\n",
       "      <td>-2239.0</td>\n",
       "    </tr>\n",
       "  </tbody>\n",
       "</table>\n",
       "</div>"
      ],
      "text/plain": [
       "              Low     High  Change\n",
       "December  -884.99  1266.01  -881.0\n",
       "January   -500.99  4147.01  1099.0\n",
       "Febuary   1272.01  4733.01 -2239.0"
      ]
     },
     "execution_count": 4,
     "metadata": {},
     "output_type": "execute_result"
    }
   ],
   "source": [
    "data = []\n",
    "names = []\n",
    "for month in month_4:\n",
    "    data.append(month.bal_data)\n",
    "    names.append(month.name)\n",
    "\n",
    "pd.DataFrame(data=np.array(data), columns=[\"Low\", \"High\", \"Change\"], index=names)"
   ]
  },
  {
   "cell_type": "markdown",
   "metadata": {},
   "source": [
    "# 90 Day Balance Chart"
   ]
  },
  {
   "cell_type": "code",
   "execution_count": 5,
   "metadata": {},
   "outputs": [
    {
     "data": {
      "text/html": [
       "<iframe id=\"igraph\" scrolling=\"no\" style=\"border:none;\" seamless=\"seamless\" src=\"https://plot.ly/~sansburyjacob/20.embed\" height=\"525px\" width=\"100%\"></iframe>"
      ],
      "text/plain": [
       "<plotly.tools.PlotlyDisplay object>"
      ]
     },
     "execution_count": 5,
     "metadata": {},
     "output_type": "execute_result"
    }
   ],
   "source": [
    "plot_data = [\n",
    "    go.Scatter(x=reality.data[:90].date, y=reality.data[:90].balance)\n",
    "]\n",
    "plt.iplot(plot_data, filename='forecast-1-year')"
   ]
  },
  {
   "cell_type": "code",
   "execution_count": null,
   "metadata": {},
   "outputs": [],
   "source": []
  }
 ],
 "metadata": {
  "kernelspec": {
   "display_name": "Python 3",
   "language": "python",
   "name": "python3"
  },
  "language_info": {
   "codemirror_mode": {
    "name": "ipython",
    "version": 3
   },
   "file_extension": ".py",
   "mimetype": "text/x-python",
   "name": "python",
   "nbconvert_exporter": "python",
   "pygments_lexer": "ipython3",
   "version": "3.7.1"
  }
 },
 "nbformat": 4,
 "nbformat_minor": 2
}
