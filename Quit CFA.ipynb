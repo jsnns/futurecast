{
 "cells": [
  {
   "cell_type": "code",
   "execution_count": 1,
   "metadata": {},
   "outputs": [],
   "source": [
    "from Delta import pd, report, plt, go, np"
   ]
  },
  {
   "cell_type": "code",
   "execution_count": 2,
   "metadata": {},
   "outputs": [],
   "source": [
    "one_year_with_cfa = report.Year()\n",
    "one_year_no_cfa = report.Year(scene=\"quit-cfa\")"
   ]
  },
  {
   "cell_type": "code",
   "execution_count": 3,
   "metadata": {},
   "outputs": [],
   "source": [
    "def get_year(rp):\n",
    "    year = rp.describe_year(2019)\n",
    "    months = year.months_data\n",
    "\n",
    "    lo_bal_change_data = []\n",
    "    names = []\n",
    "    for i, month in enumerate(months):\n",
    "        d = [month.bal_data[0], 0]\n",
    "        if i > 0:\n",
    "            previous_month = months[i-1]\n",
    "            d[1] = d[0] - previous_month.bal_data[0]\n",
    "        lo_bal_change_data.append(d)\n",
    "        names.append(month.name)\n",
    "    change_df = pd.DataFrame(data=np.array(lo_bal_change_data), columns=[\"LowBal\", \"ChangeLow\"], index=names)\n",
    "    return change_df"
   ]
  },
  {
   "cell_type": "code",
   "execution_count": 4,
   "metadata": {},
   "outputs": [],
   "source": [
    "change_df_with_cfa = get_year(one_year_with_cfa)"
   ]
  },
  {
   "cell_type": "code",
   "execution_count": 5,
   "metadata": {},
   "outputs": [],
   "source": [
    "change_df_no_cfa = get_year(one_year_no_cfa)"
   ]
  },
  {
   "cell_type": "code",
   "execution_count": 6,
   "metadata": {},
   "outputs": [
    {
     "data": {
      "text/html": [
       "<iframe id=\"igraph\" scrolling=\"no\" style=\"border:none;\" seamless=\"seamless\" src=\"https://plot.ly/~sansburyjacob/20.embed\" height=\"525px\" width=\"100%\"></iframe>"
      ],
      "text/plain": [
       "<plotly.tools.PlotlyDisplay object>"
      ]
     },
     "execution_count": 6,
     "metadata": {},
     "output_type": "execute_result"
    }
   ],
   "source": [
    "plot_data = [\n",
    "    go.Scatter(x=change_df_with_cfa.index, y=change_df_with_cfa.ChangeLow),\n",
    "    go.Scatter(x=change_df_no_cfa.index, y=change_df_no_cfa.ChangeLow)\n",
    "]\n",
    "plt.iplot(plot_data, filename='forecast-1-year')"
   ]
  },
  {
   "cell_type": "code",
   "execution_count": null,
   "metadata": {},
   "outputs": [],
   "source": []
  }
 ],
 "metadata": {
  "kernelspec": {
   "display_name": "Python 3",
   "language": "python",
   "name": "python3"
  },
  "language_info": {
   "codemirror_mode": {
    "name": "ipython",
    "version": 3
   },
   "file_extension": ".py",
   "mimetype": "text/x-python",
   "name": "python",
   "nbconvert_exporter": "python",
   "pygments_lexer": "ipython3",
   "version": "3.7.2"
  }
 },
 "nbformat": 4,
 "nbformat_minor": 2
}
