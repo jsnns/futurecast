{
 "cells": [
  {
   "cell_type": "code",
   "execution_count": 1,
   "metadata": {},
   "outputs": [],
   "source": [
    "from deltaengine.SingleImport import plt, go, report"
   ]
  },
  {
   "cell_type": "code",
   "execution_count": 2,
   "metadata": {},
   "outputs": [],
   "source": [
    "props = [\n",
    "    \"macmini-119\",\n",
    "    \"wins/tax-refund-19\",\n",
    "    \"beauty-119\"\n",
    "]\n",
    "\n",
    "forecast = report.Year(props=props)\n",
    "forecast_no_props = report.Year()"
   ]
  },
  {
   "cell_type": "code",
   "execution_count": 3,
   "metadata": {},
   "outputs": [],
   "source": [
    "year_data = forecast.describe_year(2019).frame()\n",
    "year_data_no_props = forecast_no_props.describe_year(2019).frame()\n",
    "\n",
    "plot_data = [\n",
    "    go.Scatter(\n",
    "        x=year_data_no_props.axes[0], \n",
    "        y=year_data_no_props.Low, \n",
    "        name=\"Without Props\",\n",
    "        line=dict(\n",
    "            color=(\"rgb(149, 175, 192)\")\n",
    "        )\n",
    "    ),\n",
    "    go.Scatter(\n",
    "        x=year_data.axes[0], \n",
    "        y=year_data.Low, \n",
    "        name=\"With Props\",\n",
    "        line=dict(\n",
    "            color=(\"rgb(235, 77, 75)\")\n",
    "        )\n",
    "    )\n",
    "]"
   ]
  },
  {
   "cell_type": "code",
   "execution_count": 4,
   "metadata": {},
   "outputs": [
    {
     "data": {
      "text/html": [
       "<iframe id=\"igraph\" scrolling=\"no\" style=\"border:none;\" seamless=\"seamless\" src=\"https://plot.ly/~sansburyjacob/20.embed\" height=\"525px\" width=\"100%\"></iframe>"
      ],
      "text/plain": [
       "<plotly.tools.PlotlyDisplay object>"
      ]
     },
     "execution_count": 4,
     "metadata": {},
     "output_type": "execute_result"
    }
   ],
   "source": [
    "layout = dict(\n",
    "    title = \"Low Balance Over 2019\",\n",
    "    xaxis = dict(\n",
    "        title = \"Low\"\n",
    "    ),\n",
    "    yaxis = dict(\n",
    "        title = \"Month\"\n",
    "    )\n",
    ")\n",
    "\n",
    "plt.iplot(dict(data=plot_data, layout=layout), filename='forecast-1-year')"
   ]
  },
  {
   "cell_type": "markdown",
   "metadata": {},
   "source": [
    "# 10 Years of Interest"
   ]
  },
  {
   "cell_type": "code",
   "execution_count": 5,
   "metadata": {},
   "outputs": [],
   "source": [
    "years = [2019 + i for i in range(0,9)]\n",
    "decade = report.Decade(use_interest=False, props=props).describe_years(years)\n",
    "decade_i = report.Decade(use_interest=True, props=props).describe_years(years)"
   ]
  },
  {
   "cell_type": "code",
   "execution_count": 6,
   "metadata": {},
   "outputs": [
    {
     "data": {
      "text/html": [
       "<iframe id=\"igraph\" scrolling=\"no\" style=\"border:none;\" seamless=\"seamless\" src=\"https://plot.ly/~sansburyjacob/20.embed\" height=\"525px\" width=\"100%\"></iframe>"
      ],
      "text/plain": [
       "<plotly.tools.PlotlyDisplay object>"
      ]
     },
     "execution_count": 6,
     "metadata": {},
     "output_type": "execute_result"
    }
   ],
   "source": [
    "plot_data_interest = [\n",
    "    go.Scatter(\n",
    "        x=decade.axes[0], \n",
    "        y=decade.Low, \n",
    "        name=\"Without Interest\",\n",
    "        line=dict(\n",
    "            color=(\"rgb(149, 175, 192)\")\n",
    "        )\n",
    "    ),\n",
    "    go.Scatter(\n",
    "        x=decade_i.axes[0], \n",
    "        y=decade_i.Low, \n",
    "        name=\"With 7% Interest\",\n",
    "        line=dict(\n",
    "            color=(\"rgb(235, 77, 75)\")\n",
    "        )\n",
    "    )\n",
    "]\n",
    "\n",
    "layout = dict(\n",
    "    title = \"Balance From 2019-2029\",\n",
    "    xaxis = dict(\n",
    "        title = \"Low\"\n",
    "    ),\n",
    "    yaxis = dict(\n",
    "        title = \"Month\"\n",
    "    )\n",
    ")\n",
    "\n",
    "plt.iplot(dict(data=plot_data_interest, layout=layout), filename='forecast-1-year')"
   ]
  },
  {
   "cell_type": "code",
   "execution_count": null,
   "metadata": {},
   "outputs": [],
   "source": []
  }
 ],
 "metadata": {
  "kernelspec": {
   "display_name": "Python 3",
   "language": "python",
   "name": "python3"
  },
  "language_info": {
   "codemirror_mode": {
    "name": "ipython",
    "version": 3
   },
   "file_extension": ".py",
   "mimetype": "text/x-python",
   "name": "python",
   "nbconvert_exporter": "python",
   "pygments_lexer": "ipython3",
   "version": "3.7.1"
  }
 },
 "nbformat": 4,
 "nbformat_minor": 2
}
