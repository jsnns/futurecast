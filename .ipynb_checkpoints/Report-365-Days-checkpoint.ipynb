{
 "cells": [
  {
   "cell_type": "markdown",
   "metadata": {},
   "source": [
    "# 1 Year Balance Graph\n",
    "\n",
    "## Metrics\n",
    "The metrics used in reports.\n",
    "\n",
    "### Trust\n",
    "The `trust` metric is the predicted reliability of the forecast\n",
    "\n",
    "| Trust Level | Number | Description        |\n",
    "| --- | --- | --- |\n",
    "| High Trust | 9 | no assumptions about spending, earning, or interest |\n",
    "| Medium Trust | 6 | in control assumptions about spending habits or earned interest |\n",
    "| Low Trust | 3 | out of control assumptions about payments like bonuses or what bills will be. |\n",
    "| No Trust | 0 | to many assumptions to be considered near truth |\n",
    "\n",
    "\n",
    "Starting score: 3\n",
    "\n",
    "| Thing | Out of Control | In Control |\n",
    "| --- | --- | --- |\n",
    "| Props | -2 | -1 |\n",
    "| Interest | -4 | *-1 |\n",
    "| Altered Expenses | -3 | -1 |\n",
    "| Altered Income | -3 | -2 |\n",
    "\n",
    "*(within market > .06)"
   ]
  },
  {
   "cell_type": "code",
   "execution_count": 1,
   "metadata": {},
   "outputs": [],
   "source": [
    "from deltaengine.SingleImport import report, plt, go"
   ]
  },
  {
   "cell_type": "code",
   "execution_count": 4,
   "metadata": {
    "scrolled": false
   },
   "outputs": [
    {
     "data": {
      "text/plain": [
       "<matplotlib.axes._subplots.AxesSubplot at 0x11895e710>"
      ]
     },
     "execution_count": 4,
     "metadata": {},
     "output_type": "execute_result"
    },
    {
     "data": {
      "image/png": "[encoded data removed]",
      "text/plain": [
       "<Figure size 432x288 with 1 Axes>"
      ]
     },
     "metadata": {
      "needs_background": "light"
     },
     "output_type": "display_data"
    }
   ],
   "source": [
    "# get 365 day forecast from today\n",
    "compare = [\n",
    "    dict(\n",
    "        name=\"Absolute Reality\",\n",
    "        props=[],\n",
    "        scene=\"reality\",\n",
    "        trust=9\n",
    "    ),\n",
    "    dict(\n",
    "        name=\"Target\",\n",
    "        props=[],\n",
    "        scene=\"june-19\"\n",
    "        trust=6\n",
    "    ),\n",
    "    dict(\n",
    "        name=\"Absolute Reality + Goals\",\n",
    "        props=[\n",
    "            \"wins/bonus-19\",\n",
    "            \"wins/tax-refund-19\",\n",
    "            \"trips/parker-119\",\n",
    "            \"buy/macmini-119\",\n",
    "            \"buy/beauty-119\"\n",
    "        ],\n",
    "        trust=7\n",
    "    )\n",
    "]\n",
    "\n",
    "forecast = report.Year()\n",
    "forecast.data.plot(x=\"date\", y=\"balance\")"
   ]
  },
  {
   "cell_type": "code",
   "execution_count": 15,
   "metadata": {},
   "outputs": [
    {
     "data": {
      "text/html": [
       "<iframe id=\"igraph\" scrolling=\"no\" style=\"border:none;\" seamless=\"seamless\" src=\"https://plot.ly/~sansburyjacob/20.embed\" height=\"525px\" width=\"100%\"></iframe>"
      ],
      "text/plain": [
       "<plotly.tools.PlotlyDisplay object>"
      ]
     },
     "execution_count": 15,
     "metadata": {},
     "output_type": "execute_result"
    }
   ],
   "source": [
    "year_data = forecast.describe_year(2019).frame()\n",
    "year_data_plot = [go.Scatter(x=year_data.axes[0], y=year_data.Low)]\n",
    "py.iplot(dict(data=year_data_plot, layout=dict(\n",
    "    title = \"Low Balance Over 2019\",\n",
    "    xaxis = dict(\n",
    "        title = \"Low\"\n",
    "    ),\n",
    "    yaxis = dict(\n",
    "        title = \"Month\"\n",
    "    )\n",
    ")), filename='forecast-1-year')"
   ]
  },
  {
   "cell_type": "code",
   "execution_count": null,
   "metadata": {},
   "outputs": [],
   "source": []
  }
 ],
 "metadata": {
  "celltoolbar": "Edit Metadata",
  "kernelspec": {
   "display_name": "Python 3",
   "language": "python",
   "name": "python3"
  },
  "language_info": {
   "codemirror_mode": {
    "name": "ipython",
    "version": 3
   },
   "file_extension": ".py",
   "mimetype": "text/x-python",
   "name": "python",
   "nbconvert_exporter": "python",
   "pygments_lexer": "ipython3",
   "version": "3.7.1"
  }
 },
 "nbformat": 4,
 "nbformat_minor": 2
}
